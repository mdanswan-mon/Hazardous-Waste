{
 "cells": [
  {
   "cell_type": "code",
   "execution_count": 1,
   "metadata": {},
   "outputs": [
    {
     "name": "stdout",
     "output_type": "stream",
     "text": [
      "d:\\OneDrive\\Documents\\Monash Research Project T2 2022\\HazardousWaste\n"
     ]
    }
   ],
   "source": [
    "cd ../"
   ]
  },
  {
   "cell_type": "code",
   "execution_count": 2,
   "metadata": {},
   "outputs": [],
   "source": [
    "from Lib.WebScrapping.GoogleScholarSearchSpider import *\n",
    "from Lib.WebScrapping.SpiderInstance import *\n",
    "from Lib.WebScrapping.Webpage import *\n",
    "import sys\n",
    "import numpy as np"
   ]
  },
  {
   "cell_type": "code",
   "execution_count": 3,
   "metadata": {},
   "outputs": [],
   "source": [
    "webpages: list[Webpage] = list()\n",
    "\n",
    "def google_search_results_listener(signal, sender, item, response, spider):\n",
    "    urls = item['urls'] if 'urls' in item.keys() else None\n",
    "    if urls is not None:\n",
    "        for url in urls:\n",
    "            webpages.append(Webpage(url=url))"
   ]
  },
  {
   "cell_type": "code",
   "execution_count": null,
   "metadata": {},
   "outputs": [],
   "source": [
    "create_and_run_spider(GoogleScholarSearch, google_search_results_listener, tags=['metal', 'battery', 'hazard'], pages=1, pubs=[], from_year='2015', to_year='2022')"
   ]
  }
 ],
 "metadata": {
  "kernelspec": {
   "display_name": "Python 3.10.4 ('HWaste')",
   "language": "python",
   "name": "python3"
  },
  "language_info": {
   "codemirror_mode": {
    "name": "ipython",
    "version": 3
   },
   "file_extension": ".py",
   "mimetype": "text/x-python",
   "name": "python",
   "nbconvert_exporter": "python",
   "pygments_lexer": "ipython3",
   "version": "3.10.4"
  },
  "orig_nbformat": 4,
  "vscode": {
   "interpreter": {
    "hash": "bccd11027b6ad3402a27fd87d189f6132d31cf2fc498fa1869dc23f1ec9f10db"
   }
  }
 },
 "nbformat": 4,
 "nbformat_minor": 2
}

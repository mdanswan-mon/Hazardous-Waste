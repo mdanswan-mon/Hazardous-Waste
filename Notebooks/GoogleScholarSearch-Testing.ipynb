{
 "cells": [
  {
   "cell_type": "code",
   "execution_count": 1,
   "metadata": {},
   "outputs": [
    {
     "name": "stdout",
     "output_type": "stream",
     "text": [
      "d:\\OneDrive\\Documents\\Monash Research Project T2 2022\\HazardousWaste\n"
     ]
    }
   ],
   "source": [
    "cd ../"
   ]
  },
  {
   "cell_type": "code",
   "execution_count": 2,
   "metadata": {},
   "outputs": [],
   "source": [
    "from Lib.WebScrapping.GoogleScholarSearchSpider import *\n",
    "from Lib.WebScrapping.SpiderInstance import *\n",
    "from Lib.WebScrapping.Webpage import *\n",
    "import sys\n",
    "import numpy as np"
   ]
  },
  {
   "cell_type": "code",
   "execution_count": 3,
   "metadata": {},
   "outputs": [],
   "source": [
    "webpages: list[Webpage] = list()\n",
    "\n",
    "def google_search_results_listener(signal, sender, item, response, spider):\n",
    "    urls = item['urls'] if 'urls' in item.keys() else None\n",
    "    if urls is not None:\n",
    "        for url in urls:\n",
    "            webpages.append(Webpage(url=url))"
   ]
  },
  {
   "cell_type": "code",
   "execution_count": 4,
   "metadata": {},
   "outputs": [
    {
     "name": "stderr",
     "output_type": "stream",
     "text": [
      "2022-09-20 02:17:07 [scrapy.utils.log] INFO: Scrapy 2.6.1 started (bot: scrapybot)\n",
      "2022-09-20 02:17:07 [scrapy.utils.log] INFO: Versions: lxml 4.9.1.0, libxml2 2.9.14, cssselect 1.1.0, parsel 1.6.0, w3lib 1.21.0, Twisted 22.2.0, Python 3.10.4 | packaged by conda-forge | (main, Mar 30 2022, 08:38:02) [MSC v.1916 64 bit (AMD64)], pyOpenSSL 22.0.0 (OpenSSL 1.1.1q  5 Jul 2022), cryptography 37.0.1, Platform Windows-10-10.0.19044-SP0\n",
      "2022-09-20 02:17:07 [scrapy.crawler] INFO: Overridden settings:\n",
      "{'USER_AGENT': 'Edg/105.0.1343.27'}\n",
      "2022-09-20 02:17:07 [scrapy.utils.log] DEBUG: Using reactor: twisted.internet.selectreactor.SelectReactor\n",
      "2022-09-20 02:17:07 [scrapy.extensions.telnet] INFO: Telnet Password: 16a08180566cd6a0\n",
      "2022-09-20 02:17:07 [scrapy.middleware] INFO: Enabled extensions:\n",
      "['scrapy.extensions.corestats.CoreStats',\n",
      " 'scrapy.extensions.telnet.TelnetConsole',\n",
      " 'scrapy.extensions.logstats.LogStats']\n",
      "2022-09-20 02:17:07 [scrapy.middleware] INFO: Enabled downloader middlewares:\n",
      "['scrapy.downloadermiddlewares.httpauth.HttpAuthMiddleware',\n",
      " 'scrapy.downloadermiddlewares.downloadtimeout.DownloadTimeoutMiddleware',\n",
      " 'scrapy.downloadermiddlewares.defaultheaders.DefaultHeadersMiddleware',\n",
      " 'scrapy.downloadermiddlewares.useragent.UserAgentMiddleware',\n",
      " 'scrapy.downloadermiddlewares.retry.RetryMiddleware',\n",
      " 'scrapy.downloadermiddlewares.redirect.MetaRefreshMiddleware',\n",
      " 'scrapy.downloadermiddlewares.httpcompression.HttpCompressionMiddleware',\n",
      " 'scrapy.downloadermiddlewares.redirect.RedirectMiddleware',\n",
      " 'scrapy.downloadermiddlewares.cookies.CookiesMiddleware',\n",
      " 'scrapy.downloadermiddlewares.httpproxy.HttpProxyMiddleware',\n",
      " 'scrapy.downloadermiddlewares.stats.DownloaderStats']\n",
      "2022-09-20 02:17:07 [scrapy.middleware] INFO: Enabled spider middlewares:\n",
      "['scrapy.spidermiddlewares.httperror.HttpErrorMiddleware',\n",
      " 'scrapy.spidermiddlewares.offsite.OffsiteMiddleware',\n",
      " 'scrapy.spidermiddlewares.referer.RefererMiddleware',\n",
      " 'scrapy.spidermiddlewares.urllength.UrlLengthMiddleware',\n",
      " 'scrapy.spidermiddlewares.depth.DepthMiddleware']\n",
      "2022-09-20 02:17:07 [scrapy.middleware] INFO: Enabled item pipelines:\n",
      "[]\n",
      "2022-09-20 02:17:07 [scrapy.core.engine] INFO: Spider opened\n",
      "2022-09-20 02:17:07 [scrapy.extensions.logstats] INFO: Crawled 0 pages (at 0 pages/min), scraped 0 items (at 0 items/min)\n",
      "2022-09-20 02:17:07 [scrapy.extensions.telnet] INFO: Telnet console listening on 127.0.0.1:6023\n",
      "2022-09-20 02:17:09 [filelock] DEBUG: Attempting to acquire lock 2460518527760 on d:\\Applications\\Anaconda\\envs\\HWaste\\lib\\site-packages\\tldextract\\.suffix_cache/publicsuffix.org-tlds\\de84b5ca2167d4c83e38fb162f2e8738.tldextract.json.lock\n",
      "2022-09-20 02:17:09 [filelock] DEBUG: Lock 2460518527760 acquired on d:\\Applications\\Anaconda\\envs\\HWaste\\lib\\site-packages\\tldextract\\.suffix_cache/publicsuffix.org-tlds\\de84b5ca2167d4c83e38fb162f2e8738.tldextract.json.lock\n",
      "2022-09-20 02:17:09 [filelock] DEBUG: Attempting to acquire lock 2460519719280 on d:\\Applications\\Anaconda\\envs\\HWaste\\lib\\site-packages\\tldextract\\.suffix_cache/urls\\62bf135d1c2f3d4db4228b9ecaf507a2.tldextract.json.lock\n",
      "2022-09-20 02:17:09 [filelock] DEBUG: Lock 2460519719280 acquired on d:\\Applications\\Anaconda\\envs\\HWaste\\lib\\site-packages\\tldextract\\.suffix_cache/urls\\62bf135d1c2f3d4db4228b9ecaf507a2.tldextract.json.lock\n",
      "2022-09-20 02:17:09 [filelock] DEBUG: Attempting to release lock 2460519719280 on d:\\Applications\\Anaconda\\envs\\HWaste\\lib\\site-packages\\tldextract\\.suffix_cache/urls\\62bf135d1c2f3d4db4228b9ecaf507a2.tldextract.json.lock\n",
      "2022-09-20 02:17:09 [filelock] DEBUG: Lock 2460519719280 released on d:\\Applications\\Anaconda\\envs\\HWaste\\lib\\site-packages\\tldextract\\.suffix_cache/urls\\62bf135d1c2f3d4db4228b9ecaf507a2.tldextract.json.lock\n",
      "2022-09-20 02:17:09 [filelock] DEBUG: Attempting to release lock 2460518527760 on d:\\Applications\\Anaconda\\envs\\HWaste\\lib\\site-packages\\tldextract\\.suffix_cache/publicsuffix.org-tlds\\de84b5ca2167d4c83e38fb162f2e8738.tldextract.json.lock\n",
      "2022-09-20 02:17:09 [filelock] DEBUG: Lock 2460518527760 released on d:\\Applications\\Anaconda\\envs\\HWaste\\lib\\site-packages\\tldextract\\.suffix_cache/publicsuffix.org-tlds\\de84b5ca2167d4c83e38fb162f2e8738.tldextract.json.lock\n",
      "2022-09-20 02:17:09 [scrapy.core.engine] DEBUG: Crawled (200) <GET https://scholar.google.com.au/scholar?as_q=metal%20battery%20hazard&as_publication=&as_ylo=2015&as_yhi=2022&start=0> (referer: None)\n",
      "2022-09-20 02:17:09 [scrapy.core.scraper] DEBUG: Scraped from <200 https://scholar.google.com.au/scholar?as_q=metal%20battery%20hazard&as_publication=&as_ylo=2015&as_yhi=2022&start=0>\n",
      "{'urls': ['https://www.nature.com/articles/s41598-020-73468-4', 'https://www.researchgate.net/profile/Chengzhao-Luo/publication/337834192_Mechanically_Robust_Gel_Polymer_Electrolyte_for_an_Ultrastable_Sodium_Metal_Battery/links/5ead3567a6fdcc7050a1aa13/Mechanically-Robust-Gel-Polymer-Electrolyte-for-an-Ultrastable-Sodium-Metal-Battery.pdf', 'https://onlinelibrary.wiley.com/doi/pdfdirect/10.1002/advs.202003887', 'https://cswang.umd.edu/files/2018/08/An-in-situ-enabled-lithium-metal-battery-by-plating-lithium-on-a-copper-current-collector-1y742wq.pdf', 'https://iopscience.iop.org/article/10.1149/1945-7111/ab847f/meta', 'https://www.mdpi.com/2076-3417/9/12/2483/pdf', 'https://pubs.acs.org/doi/full/10.1021/acsami.9b14147']}\n",
      "2022-09-20 02:17:09 [scrapy.core.engine] INFO: Closing spider (finished)\n",
      "2022-09-20 02:17:09 [scrapy.statscollectors] INFO: Dumping Scrapy stats:\n",
      "{'downloader/request_bytes': 293,\n",
      " 'downloader/request_count': 1,\n",
      " 'downloader/request_method_count/GET': 1,\n",
      " 'downloader/response_bytes': 40623,\n",
      " 'downloader/response_count': 1,\n",
      " 'downloader/response_status_count/200': 1,\n",
      " 'elapsed_time_seconds': 1.689489,\n",
      " 'finish_reason': 'finished',\n",
      " 'finish_time': datetime.datetime(2022, 9, 19, 16, 17, 9, 399044),\n",
      " 'httpcompression/response_bytes': 160968,\n",
      " 'httpcompression/response_count': 1,\n",
      " 'item_scraped_count': 1,\n",
      " 'log_count/DEBUG': 11,\n",
      " 'log_count/INFO': 10,\n",
      " 'response_received_count': 1,\n",
      " 'scheduler/dequeued': 1,\n",
      " 'scheduler/dequeued/memory': 1,\n",
      " 'scheduler/enqueued': 1,\n",
      " 'scheduler/enqueued/memory': 1,\n",
      " 'start_time': datetime.datetime(2022, 9, 19, 16, 17, 7, 709555)}\n",
      "2022-09-20 02:17:09 [scrapy.core.engine] INFO: Spider closed (finished)\n"
     ]
    },
    {
     "name": "stdout",
     "output_type": "stream",
     "text": [
      "Running Google Search at https://scholar.google.com.au/scholar?as_q=metal%20battery%20hazard&as_publication=&as_ylo=2015&as_yhi=2022&start=0\n"
     ]
    }
   ],
   "source": [
    "create_and_run_spider(GoogleScholarSearch, google_search_results_listener, tags=['metal', 'battery', 'hazard'], pages=1, pubs=[], from_year='2015', to_year='2022')"
   ]
  },
  {
   "cell_type": "code",
   "execution_count": 5,
   "metadata": {},
   "outputs": [
    {
     "name": "stdout",
     "output_type": "stream",
     "text": [
      "https://www.nature.com/articles/s41598-020-73468-4\n",
      "https://www.researchgate.net/profile/Chengzhao-Luo/publication/337834192_Mechanically_Robust_Gel_Polymer_Electrolyte_for_an_Ultrastable_Sodium_Metal_Battery/links/5ead3567a6fdcc7050a1aa13/Mechanically-Robust-Gel-Polymer-Electrolyte-for-an-Ultrastable-Sodium-Metal-Battery.pdf\n",
      "https://onlinelibrary.wiley.com/doi/pdfdirect/10.1002/advs.202003887\n",
      "https://cswang.umd.edu/files/2018/08/An-in-situ-enabled-lithium-metal-battery-by-plating-lithium-on-a-copper-current-collector-1y742wq.pdf\n",
      "https://iopscience.iop.org/article/10.1149/1945-7111/ab847f/meta\n",
      "https://www.mdpi.com/2076-3417/9/12/2483/pdf\n",
      "https://pubs.acs.org/doi/full/10.1021/acsami.9b14147\n"
     ]
    }
   ],
   "source": [
    "for webpage in webpages:\n",
    "    print(webpage.url)"
   ]
  },
  {
   "cell_type": "code",
   "execution_count": null,
   "metadata": {},
   "outputs": [],
   "source": []
  }
 ],
 "metadata": {
  "kernelspec": {
   "display_name": "Python 3.10.4 ('HWaste')",
   "language": "python",
   "name": "python3"
  },
  "language_info": {
   "codemirror_mode": {
    "name": "ipython",
    "version": 3
   },
   "file_extension": ".py",
   "mimetype": "text/x-python",
   "name": "python",
   "nbconvert_exporter": "python",
   "pygments_lexer": "ipython3",
   "version": "3.10.4"
  },
  "orig_nbformat": 4,
  "vscode": {
   "interpreter": {
    "hash": "bccd11027b6ad3402a27fd87d189f6132d31cf2fc498fa1869dc23f1ec9f10db"
   }
  }
 },
 "nbformat": 4,
 "nbformat_minor": 2
}

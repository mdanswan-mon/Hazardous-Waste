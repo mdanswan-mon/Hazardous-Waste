{
 "cells": [
  {
   "cell_type": "code",
   "execution_count": 1,
   "metadata": {},
   "outputs": [],
   "source": [
    "import scrapy\n",
    "import urllib\n",
    "from scrapy.crawler import CrawlerProcess"
   ]
  },
  {
   "cell_type": "code",
   "execution_count": 2,
   "metadata": {},
   "outputs": [],
   "source": [
    "class GoogleSearch(scrapy.Spider):\n",
    "    \n",
    "    name = \"GoogleSearch\"\n",
    "    base_url = \"https://www.google.com.au/search?q=\"\n",
    "\n",
    "    def start_requests(self):\n",
    "        url = f\"{self.base_url}{urllib.parse.quote(' '.join(['metal', 'e-waste', 'batteries']))}\"\n",
    "        yield scrapy.Request(url=url, callback=self.parse)\n",
    "\n",
    "    def parse(self, response):\n",
    "        print(response.css('.fP1Qef'))"
   ]
  },
  {
   "cell_type": "code",
   "execution_count": 3,
   "metadata": {},
   "outputs": [
    {
     "name": "stderr",
     "output_type": "stream",
     "text": [
      "2022-08-03 00:58:36 [scrapy.utils.log] INFO: Scrapy 2.6.1 started (bot: scrapybot)\n",
      "2022-08-03 00:58:36 [scrapy.utils.log] INFO: Versions: lxml 4.9.1.0, libxml2 2.9.14, cssselect 1.1.0, parsel 1.6.0, w3lib 1.21.0, Twisted 22.2.0, Python 3.10.4 | packaged by conda-forge | (main, Mar 30 2022, 08:38:02) [MSC v.1916 64 bit (AMD64)], pyOpenSSL 22.0.0 (OpenSSL 1.1.1q  5 Jul 2022), cryptography 37.0.1, Platform Windows-10-10.0.19044-SP0\n",
      "2022-08-03 00:58:36 [scrapy.crawler] INFO: Overridden settings:\n",
      "{}\n",
      "2022-08-03 00:58:36 [scrapy.utils.log] DEBUG: Using reactor: twisted.internet.selectreactor.SelectReactor\n",
      "2022-08-03 00:58:36 [scrapy.extensions.telnet] INFO: Telnet Password: bc71ebe2af5a6a5b\n",
      "2022-08-03 00:58:36 [scrapy.middleware] INFO: Enabled extensions:\n",
      "['scrapy.extensions.corestats.CoreStats',\n",
      " 'scrapy.extensions.telnet.TelnetConsole',\n",
      " 'scrapy.extensions.logstats.LogStats']\n",
      "2022-08-03 00:58:36 [scrapy.middleware] INFO: Enabled downloader middlewares:\n",
      "['scrapy.downloadermiddlewares.httpauth.HttpAuthMiddleware',\n",
      " 'scrapy.downloadermiddlewares.downloadtimeout.DownloadTimeoutMiddleware',\n",
      " 'scrapy.downloadermiddlewares.defaultheaders.DefaultHeadersMiddleware',\n",
      " 'scrapy.downloadermiddlewares.useragent.UserAgentMiddleware',\n",
      " 'scrapy.downloadermiddlewares.retry.RetryMiddleware',\n",
      " 'scrapy.downloadermiddlewares.redirect.MetaRefreshMiddleware',\n",
      " 'scrapy.downloadermiddlewares.httpcompression.HttpCompressionMiddleware',\n",
      " 'scrapy.downloadermiddlewares.redirect.RedirectMiddleware',\n",
      " 'scrapy.downloadermiddlewares.cookies.CookiesMiddleware',\n",
      " 'scrapy.downloadermiddlewares.httpproxy.HttpProxyMiddleware',\n",
      " 'scrapy.downloadermiddlewares.stats.DownloaderStats']\n",
      "2022-08-03 00:58:36 [scrapy.middleware] INFO: Enabled spider middlewares:\n",
      "['scrapy.spidermiddlewares.httperror.HttpErrorMiddleware',\n",
      " 'scrapy.spidermiddlewares.offsite.OffsiteMiddleware',\n",
      " 'scrapy.spidermiddlewares.referer.RefererMiddleware',\n",
      " 'scrapy.spidermiddlewares.urllength.UrlLengthMiddleware',\n",
      " 'scrapy.spidermiddlewares.depth.DepthMiddleware']\n",
      "2022-08-03 00:58:36 [scrapy.middleware] INFO: Enabled item pipelines:\n",
      "[]\n",
      "2022-08-03 00:58:36 [scrapy.core.engine] INFO: Spider opened\n",
      "2022-08-03 00:58:36 [scrapy.extensions.logstats] INFO: Crawled 0 pages (at 0 pages/min), scraped 0 items (at 0 items/min)\n",
      "2022-08-03 00:58:36 [scrapy.extensions.telnet] INFO: Telnet console listening on 127.0.0.1:6023\n",
      "2022-08-03 00:58:37 [filelock] DEBUG: Attempting to acquire lock 1878885991568 on d:\\Applications\\Anaconda\\envs\\HWaste\\lib\\site-packages\\tldextract\\.suffix_cache/publicsuffix.org-tlds\\de84b5ca2167d4c83e38fb162f2e8738.tldextract.json.lock\n",
      "2022-08-03 00:58:37 [filelock] DEBUG: Lock 1878885991568 acquired on d:\\Applications\\Anaconda\\envs\\HWaste\\lib\\site-packages\\tldextract\\.suffix_cache/publicsuffix.org-tlds\\de84b5ca2167d4c83e38fb162f2e8738.tldextract.json.lock\n",
      "2022-08-03 00:58:37 [filelock] DEBUG: Attempting to acquire lock 1878886081840 on d:\\Applications\\Anaconda\\envs\\HWaste\\lib\\site-packages\\tldextract\\.suffix_cache/urls\\62bf135d1c2f3d4db4228b9ecaf507a2.tldextract.json.lock\n",
      "2022-08-03 00:58:37 [filelock] DEBUG: Lock 1878886081840 acquired on d:\\Applications\\Anaconda\\envs\\HWaste\\lib\\site-packages\\tldextract\\.suffix_cache/urls\\62bf135d1c2f3d4db4228b9ecaf507a2.tldextract.json.lock\n",
      "2022-08-03 00:58:37 [filelock] DEBUG: Attempting to release lock 1878886081840 on d:\\Applications\\Anaconda\\envs\\HWaste\\lib\\site-packages\\tldextract\\.suffix_cache/urls\\62bf135d1c2f3d4db4228b9ecaf507a2.tldextract.json.lock\n",
      "2022-08-03 00:58:37 [filelock] DEBUG: Lock 1878886081840 released on d:\\Applications\\Anaconda\\envs\\HWaste\\lib\\site-packages\\tldextract\\.suffix_cache/urls\\62bf135d1c2f3d4db4228b9ecaf507a2.tldextract.json.lock\n",
      "2022-08-03 00:58:37 [filelock] DEBUG: Attempting to release lock 1878885991568 on d:\\Applications\\Anaconda\\envs\\HWaste\\lib\\site-packages\\tldextract\\.suffix_cache/publicsuffix.org-tlds\\de84b5ca2167d4c83e38fb162f2e8738.tldextract.json.lock\n",
      "2022-08-03 00:58:37 [filelock] DEBUG: Lock 1878885991568 released on d:\\Applications\\Anaconda\\envs\\HWaste\\lib\\site-packages\\tldextract\\.suffix_cache/publicsuffix.org-tlds\\de84b5ca2167d4c83e38fb162f2e8738.tldextract.json.lock\n",
      "2022-08-03 00:58:37 [scrapy.core.engine] DEBUG: Crawled (200) <GET https://www.google.com.au/search?q=metal%20e-waste%20batteries> (referer: None)\n",
      "2022-08-03 00:58:37 [scrapy.core.engine] INFO: Closing spider (finished)\n",
      "2022-08-03 00:58:37 [scrapy.statscollectors] INFO: Dumping Scrapy stats:\n",
      "{'downloader/request_bytes': 257,\n",
      " 'downloader/request_count': 1,\n",
      " 'downloader/request_method_count/GET': 1,\n",
      " 'downloader/response_bytes': 124406,\n",
      " 'downloader/response_count': 1,\n",
      " 'downloader/response_status_count/200': 1,\n",
      " 'elapsed_time_seconds': 1.1579,\n",
      " 'finish_reason': 'finished',\n",
      " 'finish_time': datetime.datetime(2022, 8, 2, 14, 58, 37, 502514),\n",
      " 'httpcompression/response_bytes': 207891,\n",
      " 'httpcompression/response_count': 1,\n",
      " 'log_count/DEBUG': 10,\n",
      " 'log_count/INFO': 10,\n",
      " 'response_received_count': 1,\n",
      " 'scheduler/dequeued': 1,\n",
      " 'scheduler/dequeued/memory': 1,\n",
      " 'scheduler/enqueued': 1,\n",
      " 'scheduler/enqueued/memory': 1,\n",
      " 'start_time': datetime.datetime(2022, 8, 2, 14, 58, 36, 344614)}\n",
      "2022-08-03 00:58:37 [scrapy.core.engine] INFO: Spider closed (finished)\n"
     ]
    },
    {
     "name": "stdout",
     "output_type": "stream",
     "text": [
      "[<Selector xpath=\"descendant-or-self::*[@class and contains(concat(' ', normalize-space(@class), ' '), ' fP1Qef ')]\" data='<div class=\"Gx5Zad fP1Qef xpd EtOod p...'>, <Selector xpath=\"descendant-or-self::*[@class and contains(concat(' ', normalize-space(@class), ' '), ' fP1Qef ')]\" data='<div class=\"Gx5Zad fP1Qef xpd EtOod p...'>, <Selector xpath=\"descendant-or-self::*[@class and contains(concat(' ', normalize-space(@class), ' '), ' fP1Qef ')]\" data='<div class=\"Gx5Zad fP1Qef xpd EtOod p...'>, <Selector xpath=\"descendant-or-self::*[@class and contains(concat(' ', normalize-space(@class), ' '), ' fP1Qef ')]\" data='<div class=\"Gx5Zad fP1Qef xpd EtOod p...'>, <Selector xpath=\"descendant-or-self::*[@class and contains(concat(' ', normalize-space(@class), ' '), ' fP1Qef ')]\" data='<div class=\"Gx5Zad fP1Qef xpd EtOod p...'>, <Selector xpath=\"descendant-or-self::*[@class and contains(concat(' ', normalize-space(@class), ' '), ' fP1Qef ')]\" data='<div class=\"Gx5Zad fP1Qef xpd EtOod p...'>, <Selector xpath=\"descendant-or-self::*[@class and contains(concat(' ', normalize-space(@class), ' '), ' fP1Qef ')]\" data='<div class=\"Gx5Zad fP1Qef xpd EtOod p...'>, <Selector xpath=\"descendant-or-self::*[@class and contains(concat(' ', normalize-space(@class), ' '), ' fP1Qef ')]\" data='<div class=\"Gx5Zad fP1Qef xpd EtOod p...'>, <Selector xpath=\"descendant-or-self::*[@class and contains(concat(' ', normalize-space(@class), ' '), ' fP1Qef ')]\" data='<div class=\"Gx5Zad fP1Qef xpd EtOod p...'>, <Selector xpath=\"descendant-or-self::*[@class and contains(concat(' ', normalize-space(@class), ' '), ' fP1Qef ')]\" data='<div class=\"Gx5Zad fP1Qef xpd EtOod p...'>]\n"
     ]
    }
   ],
   "source": [
    "process = CrawlerProcess()\n",
    "process.crawl(GoogleSearch)\n",
    "process.start()"
   ]
  },
  {
   "cell_type": "code",
   "execution_count": null,
   "metadata": {},
   "outputs": [],
   "source": []
  }
 ],
 "metadata": {
  "kernelspec": {
   "display_name": "Python 3.10.5 ('HWaste')",
   "language": "python",
   "name": "python3"
  },
  "language_info": {
   "codemirror_mode": {
    "name": "ipython",
    "version": 3
   },
   "file_extension": ".py",
   "mimetype": "text/x-python",
   "name": "python",
   "nbconvert_exporter": "python",
   "pygments_lexer": "ipython3",
   "version": "3.10.4"
  },
  "vscode": {
   "interpreter": {
    "hash": "bccd11027b6ad3402a27fd87d189f6132d31cf2fc498fa1869dc23f1ec9f10db"
   }
  }
 },
 "nbformat": 4,
 "nbformat_minor": 4
}

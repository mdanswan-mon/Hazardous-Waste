{
 "cells": [
  {
   "cell_type": "code",
   "execution_count": 1,
   "metadata": {},
   "outputs": [
    {
     "name": "stdout",
     "output_type": "stream",
     "text": [
      "d:\\OneDrive\\Documents\\Monash Research Project T2 2022\\HazardousWaste\n"
     ]
    }
   ],
   "source": [
    "cd ../"
   ]
  },
  {
   "cell_type": "code",
   "execution_count": 2,
   "metadata": {},
   "outputs": [],
   "source": [
    "from Lib.WebScrapping.CorpusScraper import *\n",
    "from Lib.TextAnalytics.Methods import *\n",
    "import sys\n",
    "import numpy as np\n",
    "import pandas as pd\n",
    "pd.set_option('display.float_format', lambda x: '%.3f' % x)"
   ]
  },
  {
   "cell_type": "code",
   "execution_count": 3,
   "metadata": {},
   "outputs": [
    {
     "name": "stderr",
     "output_type": "stream",
     "text": [
      "INFO: Overridden settings:\n",
      "{'USER_AGENT': 'Mozilla/5.0 (Windows NT 10.0; Win64; x64) AppleWebKit/537.36 '\n",
      "               '(KHTML, like Gecko) Chrome/106.0.0.0 Safari/537.36 '\n",
      "               'Edg/106.0.1370.47'}\n",
      "2022-11-13 18:47:48 [scrapy.extensions.telnet] INFO: Telnet Password: 5f61915d3e9d9e51\n",
      "2022-11-13 18:47:48 [scrapy.middleware] INFO: Enabled extensions:\n",
      "['scrapy.extensions.corestats.CoreStats',\n",
      " 'scrapy.extensions.telnet.TelnetConsole',\n",
      " 'scrapy.extensions.logstats.LogStats']\n",
      "2022-11-13 18:47:49 [scrapy.middleware] INFO: Enabled downloader middlewares:\n",
      "['scrapy.downloadermiddlewares.httpauth.HttpAuthMiddleware',\n",
      " 'scrapy.downloadermiddlewares.downloadtimeout.DownloadTimeoutMiddleware',\n",
      " 'scrapy.downloadermiddlewares.defaultheaders.DefaultHeadersMiddleware',\n",
      " 'scrapy.downloadermiddlewares.useragent.UserAgentMiddleware',\n",
      " 'scrapy.downloadermiddlewares.retry.RetryMiddleware',\n",
      " 'scrapy.downloadermiddlewares.redirect.MetaRefreshMiddleware',\n",
      " 'scrapy.downloadermiddlewares.httpcompression.HttpCompressionMiddleware',\n",
      " 'scrapy.downloadermiddlewares.redirect.RedirectMiddleware',\n",
      " 'scrapy.downloadermiddlewares.cookies.CookiesMiddleware',\n",
      " 'scrapy.downloadermiddlewares.httpproxy.HttpProxyMiddleware',\n",
      " 'scrapy.downloadermiddlewares.stats.DownloaderStats']\n",
      "2022-11-13 18:47:49 [scrapy.middleware] INFO: Enabled spider middlewares:\n",
      "['scrapy.spidermiddlewares.httperror.HttpErrorMiddleware',\n",
      " 'scrapy.spidermiddlewares.offsite.OffsiteMiddleware',\n",
      " 'scrapy.spidermiddlewares.referer.RefererMiddleware',\n",
      " 'scrapy.spidermiddlewares.urllength.UrlLengthMiddleware',\n",
      " 'scrapy.spidermiddlewares.depth.DepthMiddleware']\n",
      "2022-11-13 18:47:49 [scrapy.middleware] INFO: Enabled item pipelines:\n",
      "[]\n",
      "2022-11-13 18:47:49 [scrapy.core.engine] INFO: Spider opened\n",
      "2022-11-13 18:47:50 [scrapy.extensions.logstats] INFO: Crawled 0 pages (at 0 pages/min), scraped 0 items (at 0 items/min)\n",
      "2022-11-13 18:47:50 [scrapy.extensions.telnet] INFO: Telnet console listening on 127.0.0.1:6023\n",
      "2022-11-13 18:47:51 [filelock] DEBUG: Attempting to acquire lock 2162708432736 on d:\\Applications\\Anaconda\\envs\\hwaste\\lib\\site-packages\\tldextract\\.suffix_cache/publicsuffix.org-tlds\\de84b5ca2167d4c83e38fb162f2e8738.tldextract.json.lock\n",
      "2022-11-13 18:47:51 [filelock] DEBUG: Lock 2162708432736 acquired on d:\\Applications\\Anaconda\\envs\\hwaste\\lib\\site-packages\\tldextract\\.suffix_cache/publicsuffix.org-tlds\\de84b5ca2167d4c83e38fb162f2e8738.tldextract.json.lock\n",
      "2022-11-13 18:47:51 [filelock] DEBUG: Attempting to release lock 2162708432736 on d:\\Applications\\Anaconda\\envs\\hwaste\\lib\\site-packages\\tldextract\\.suffix_cache/publicsuffix.org-tlds\\de84b5ca2167d4c83e38fb162f2e8738.tldextract.json.lock\n",
      "2022-11-13 18:47:51 [filelock] DEBUG: Lock 2162708432736 released on d:\\Applications\\Anaconda\\envs\\hwaste\\lib\\site-packages\\tldextract\\.suffix_cache/publicsuffix.org-tlds\\de84b5ca2167d4c83e38fb162f2e8738.tldextract.json.lock\n",
      "2022-11-13 18:47:51 [scrapy.core.engine] DEBUG: Crawled (200) <GET https://scholar.google.com.au/scholar?as_q=microplastic%20waste%20hazard%20marine&as_publication=&as_ylo=2015&as_yhi=&start=10> (referer: None)\n",
      "2022-11-13 18:47:51 [scrapy.core.scraper] DEBUG: Scraped from <200 https://scholar.google.com.au/scholar?as_q=microplastic%20waste%20hazard%20marine&as_publication=&as_ylo=2015&as_yhi=&start=10>\n",
      "{'urls': ['https://www.sciencedirect.com/science/article/pii/S0141113615300659', 'https://www.e3s-conferences.org/articles/e3sconf/pdf/2021/33/e3sconf_aesee2021_03006.pdf', 'https://library.oapen.org/bitstream/handle/20.500.12657/28030/1001966.pdf#page=197', 'https://link.springer.com/chapter/10.1007/978-981-33-4795-3_30', 'https://www.sciencedirect.com/science/article/pii/S0304389421029290', 'https://link.springer.com/article/10.1007/s11356-020-09015-5', 'https://www.sciencedirect.com/science/article/pii/S0043135420305583', 'https://www.academia.edu/download/66137091/IJARET_11_12_090.pdf', 'https://dione.lib.unipi.gr/xmlui/bitstream/handle/unipi/12363/Palavras_Charalampos.pdf?sequence=2&isAllowed=y', 'https://books.google.com.au/books?hl=en&lr=&id=GJveDwAAQBAJ&oi=fnd&pg=PA72&dq=microplastic+waste+hazard+marine&ots=-1iAVdiWwm&sig=FLwI-6UwofqL5xv4fGzVnmJ-7Og']}\n"
     ]
    },
    {
     "name": "stdout",
     "output_type": "stream",
     "text": [
      "Running Google Search at https://scholar.google.com.au/scholar?as_q=microplastic%20waste%20hazard%20marine&as_publication=&as_ylo=2015&as_yhi=&start=10\n"
     ]
    },
    {
     "name": "stderr",
     "output_type": "stream",
     "text": [
      "2022-11-13 18:47:51 [scrapy.core.engine] DEBUG: Crawled (200) <GET https://scholar.google.com.au/scholar?as_q=microplastic%20waste%20hazard%20marine&as_publication=&as_ylo=2015&as_yhi=&start=30> (referer: None)\n",
      "2022-11-13 18:47:51 [scrapy.core.engine] DEBUG: Crawled (200) <GET https://scholar.google.com.au/scholar?as_q=microplastic%20waste%20hazard%20marine&as_publication=&as_ylo=2015&as_yhi=&start=40> (referer: None)\n",
      "2022-11-13 18:47:51 [scrapy.core.engine] DEBUG: Crawled (200) <GET https://scholar.google.com.au/scholar?as_q=microplastic%20waste%20hazard%20marine&as_publication=&as_ylo=2015&as_yhi=&start=0> (referer: None)\n",
      "2022-11-13 18:47:51 [scrapy.core.engine] DEBUG: Crawled (200) <GET https://scholar.google.com.au/scholar?as_q=microplastic%20waste%20hazard%20marine&as_publication=&as_ylo=2015&as_yhi=&start=20> (referer: None)\n",
      "2022-11-13 18:47:51 [scrapy.core.scraper] DEBUG: Scraped from <200 https://scholar.google.com.au/scholar?as_q=microplastic%20waste%20hazard%20marine&as_publication=&as_ylo=2015&as_yhi=&start=30>\n",
      "{'urls': ['https://www.sciencedirect.com/science/article/pii/S0048969722008221/pdf?md5=0c02d77234de3aafb39abd08d627609e&pid=1-s2.0-S0048969722008221-main.pdf', 'https://www.sciencedirect.com/science/article/pii/S0304389418306708', 'https://www.sciencedirect.com/science/article/pii/S0025326X21000035', 'https://www.sciencedirect.com/science/article/pii/S1382668918303934', 'https://link.springer.com/article/10.1007/s11356-017-9910-8', 'https://www.sciencedirect.com/science/article/pii/S2589914721000232', 'https://www.xisdxjxsu.asia/V17I9-24.pdf', 'https://books.google.com.au/books?hl=en&lr=&id=I14JEAAAQBAJ&oi=fnd&pg=PA159&dq=microplastic+waste+hazard+marine&ots=DfJnwPG-eY&sig=n70gBl98h5H1M1kLV2kABolpNso', 'https://www.sciencedirect.com/science/article/pii/S0304389419308143', 'https://nova.newcastle.edu.au/vital/access/services/Download/uon:29947/ATTACHMENT02']}\n",
      "2022-11-13 18:47:52 [scrapy.core.scraper] DEBUG: Scraped from <200 https://scholar.google.com.au/scholar?as_q=microplastic%20waste%20hazard%20marine&as_publication=&as_ylo=2015&as_yhi=&start=40>\n",
      "{'urls': ['https://www.sciencedirect.com/science/article/pii/S0025326X19306630', 'https://library.oapen.org/bitstream/handle/20.500.12657/27804/1002201.pdf?sequence=1#page=189', 'https://www.sciencedirect.com/science/article/pii/S026974911631898X', 'https://www.mdpi.com/2673-8929/1/1/3/pdf', 'https://link.springer.com/article/10.1007/s11356-016-7216-x', 'https://onlinelibrary.wiley.com/doi/abs/10.1111/reel.12258', 'https://www.researchgate.net/profile/Oluniyi-Ogunola/publication/323353175_Mitigation_measures_to_avert_the_impacts_of_plastics_and_microplastics_in_the_marine_environment_a_review/links/5a97de46aca27214056bd789/Mitigation-measures-to-avert-the-impacts-of-plastics-and-microplastics-in-the-marine-environment-a-review.pdf', 'https://www.taylorfrancis.com/chapters/edit/10.1201/9780429469596-10/marine-litter-plastics-microplastics-toxic-chemicals-components-frederic-gallo-cristina-fossi-roland-weber-david-santillo-joao-sousa-imogen-ingram-angel-nadal-dolores-romano', 'https://journals.sagepub.com/doi/pdf/10.1177/0734242X18793504', 'https://www.juw.edu.pk/resource/uploads/2021/04/7.-Zoology-Hina-Moin.pdf']}\n",
      "2022-11-13 18:47:52 [scrapy.core.scraper] DEBUG: Scraped from <200 https://scholar.google.com.au/scholar?as_q=microplastic%20waste%20hazard%20marine&as_publication=&as_ylo=2015&as_yhi=&start=0>\n",
      "{'urls': ['https://www.sciencedirect.com/science/article/pii/S030438942200187X', 'https://link.springer.com/article/10.1007/s11270-021-05155-7', 'https://progearthplanetsci.springeropen.com/articles/10.1186/s40645-020-00405-4', 'https://www.sciencedirect.com/science/article/pii/S0025326X19305041', 'https://link.springer.com/article/10.1186/s12302-018-0139-z', 'https://www.pnas.org/doi/full/10.1073/pnas.1600715113', 'https://www.mdpi.com/2073-4441/14/18/2790/pdf', 'https://ore.exeter.ac.uk/repository/bitstream/handle/10871/34727/Interactions%20of%20microplastic%20debris%20throughout%20the%20marine%20ecosystem%20final%20tracked.pdf?sequence=5', 'https://www.researchgate.net/profile/Oluniyi-Fadare/post/Are_there_estimates_of_plastic_litter_inputs_in_the_ocean_from_sea-based_activities/attachment/5e295f443843b093839cb974/AS%3A850429780963329%401579769668590/download/10.1016%40B978-0-12-815060-3.00022-0.pdf', 'https://www.sciencedirect.com/science/article/pii/S2352550922001385']}\n",
      "2022-11-13 18:47:52 [scrapy.core.scraper] DEBUG: Scraped from <200 https://scholar.google.com.au/scholar?as_q=microplastic%20waste%20hazard%20marine&as_publication=&as_ylo=2015&as_yhi=&start=20>\n",
      "{'urls': ['https://repository.unja.ac.id/17807/1/2884-4875-4-PB.pdf', 'https://www.researchgate.net/profile/Oluniyi-Fadare/post/Are_there_estimates_of_plastic_litter_inputs_in_the_ocean_from_sea-based_activities/attachment/5e295f453843b093839cb975/AS%3A850429785165825%401579769669088/download/1-s2.0-S0048969716310154-main%281%29.pdf', 'https://www.sciencedirect.com/science/article/pii/S0304389420309833', 'https://www.mdpi.com/1660-4601/18/2/433/pdf', 'https://link.springer.com/chapter/10.1007/978-3-030-45909-3_14', 'https://www.academia.edu/download/64419122/JHM.pdf', 'https://link.springer.com/chapter/10.1007/978-3-030-75602-4_17', 'https://iopscience.iop.org/article/10.1088/1755-1315/631/1/012006/pdf', 'https://www.ncbi.nlm.nih.gov/pmc/articles/PMC9055833/', 'https://www.sciencedirect.com/science/article/pii/S0269749117316494']}\n",
      "2022-11-13 18:47:52 [scrapy.core.engine] INFO: Closing spider (finished)\n",
      "2022-11-13 18:47:52 [scrapy.statscollectors] INFO: Dumping Scrapy stats:\n",
      "{'downloader/request_bytes': 2079,\n",
      " 'downloader/request_count': 5,\n",
      " 'downloader/request_method_count/GET': 5,\n",
      " 'downloader/response_bytes': 200487,\n",
      " 'downloader/response_count': 5,\n",
      " 'downloader/response_status_count/200': 5,\n",
      " 'elapsed_time_seconds': 1.903502,\n",
      " 'finish_reason': 'finished',\n",
      " 'finish_time': datetime.datetime(2022, 11, 13, 7, 47, 52, 61385),\n",
      " 'httpcompression/response_bytes': 783820,\n",
      " 'httpcompression/response_count': 5,\n",
      " 'item_scraped_count': 5,\n",
      " 'log_count/DEBUG': 14,\n",
      " 'log_count/INFO': 10,\n",
      " 'response_received_count': 5,\n",
      " 'scheduler/dequeued': 5,\n",
      " 'scheduler/dequeued/memory': 5,\n",
      " 'scheduler/enqueued': 5,\n",
      " 'scheduler/enqueued/memory': 5,\n",
      " 'start_time': datetime.datetime(2022, 11, 13, 7, 47, 50, 157883)}\n",
      "2022-11-13 18:47:52 [scrapy.core.engine] INFO: Spider closed (finished)\n",
      "2022-11-13 18:47:52 [scrapy.crawler] INFO: Overridden settings:\n",
      "{'USER_AGENT': 'Mozilla/5.0 (Windows NT 10.0; Win64; x64) AppleWebKit/537.36 '\n",
      "               '(KHTML, like Gecko) Chrome/106.0.0.0 Safari/537.36 '\n",
      "               'Edg/106.0.1370.47'}\n",
      "2022-11-13 18:47:52 [scrapy.extensions.telnet] INFO: Telnet Password: bba15ad0dfacad83\n",
      "2022-11-13 18:47:52 [scrapy.middleware] INFO: Enabled extensions:\n",
      "['scrapy.extensions.corestats.CoreStats',\n",
      " 'scrapy.extensions.telnet.TelnetConsole',\n",
      " 'scrapy.extensions.logstats.LogStats']\n",
      "2022-11-13 18:47:52 [scrapy.middleware] INFO: Enabled downloader middlewares:\n",
      "['scrapy.downloadermiddlewares.httpauth.HttpAuthMiddleware',\n",
      " 'scrapy.downloadermiddlewares.downloadtimeout.DownloadTimeoutMiddleware',\n",
      " 'scrapy.downloadermiddlewares.defaultheaders.DefaultHeadersMiddleware',\n",
      " 'scrapy.downloadermiddlewares.useragent.UserAgentMiddleware',\n",
      " 'scrapy.downloadermiddlewares.retry.RetryMiddleware',\n",
      " 'scrapy.downloadermiddlewares.redirect.MetaRefreshMiddleware',\n",
      " 'scrapy.downloadermiddlewares.httpcompression.HttpCompressionMiddleware',\n",
      " 'scrapy.downloadermiddlewares.redirect.RedirectMiddleware',\n",
      " 'scrapy.downloadermiddlewares.cookies.CookiesMiddleware',\n",
      " 'scrapy.downloadermiddlewares.httpproxy.HttpProxyMiddleware',\n",
      " 'scrapy.downloadermiddlewares.stats.DownloaderStats']\n",
      "2022-11-13 18:47:52 [scrapy.middleware] INFO: Enabled spider middlewares:\n",
      "['scrapy.spidermiddlewares.httperror.HttpErrorMiddleware',\n",
      " 'scrapy.spidermiddlewares.offsite.OffsiteMiddleware',\n",
      " 'scrapy.spidermiddlewares.referer.RefererMiddleware',\n",
      " 'scrapy.spidermiddlewares.urllength.UrlLengthMiddleware',\n",
      " 'scrapy.spidermiddlewares.depth.DepthMiddleware']\n",
      "2022-11-13 18:47:52 [scrapy.middleware] INFO: Enabled item pipelines:\n",
      "[]\n",
      "2022-11-13 18:47:52 [scrapy.core.engine] INFO: Spider opened\n",
      "2022-11-13 18:47:52 [scrapy.extensions.logstats] INFO: Crawled 0 pages (at 0 pages/min), scraped 0 items (at 0 items/min)\n",
      "2022-11-13 18:47:52 [scrapy.extensions.telnet] INFO: Telnet console listening on 127.0.0.1:6023\n"
     ]
    },
    {
     "name": "stdout",
     "output_type": "stream",
     "text": [
      "Running Google Search at https://scholar.google.com.au/scholar?as_q=microplastic%20waste%20hazard%20marine&as_publication=&as_ylo=2015&as_yhi=&start=30\n",
      "Running Google Search at https://scholar.google.com.au/scholar?as_q=microplastic%20waste%20hazard%20marine&as_publication=&as_ylo=2015&as_yhi=&start=40\n",
      "Running Google Search at https://scholar.google.com.au/scholar?as_q=microplastic%20waste%20hazard%20marine&as_publication=&as_ylo=2015&as_yhi=&start=0\n",
      "Running Google Search at https://scholar.google.com.au/scholar?as_q=microplastic%20waste%20hazard%20marine&as_publication=&as_ylo=2015&as_yhi=&start=20\n"
     ]
    },
    {
     "name": "stderr",
     "output_type": "stream",
     "text": [
      "2022-11-13 18:47:52 [scrapy.downloadermiddlewares.redirect] DEBUG: Redirecting (meta refresh) to <GET https://www.sciencedirect.com/science/article/pii/S0048969722008221?ref=cra_js_challenge&fr=njs> from <GET https://www.sciencedirect.com/science/article/pii/S0048969722008221/pdf?md5=0c02d77234de3aafb39abd08d627609e&pid=1-s2.0-S0048969722008221-main.pdf>\n",
      "2022-11-13 18:47:52 [scrapy.core.engine] DEBUG: Crawled (404) <GET https://www.academia.edu/download/66137091/IJARET_11_12_090.pdf> (referer: None)\n",
      "2022-11-13 18:47:52 [scrapy.downloadermiddlewares.redirect] DEBUG: Redirecting (303) to <GET https://idp.springer.com/authorize?response_type=cookie&client_id=springerlink&redirect_uri=https%3A%2F%2Flink.springer.com%2Farticle%2F10.1007%2Fs11356-017-9910-8> from <GET https://link.springer.com/article/10.1007/s11356-017-9910-8>\n",
      "2022-11-13 18:47:52 [scrapy.downloadermiddlewares.redirect] DEBUG: Redirecting (303) to <GET https://idp.springer.com/authorize?response_type=cookie&client_id=springerlink&redirect_uri=https%3A%2F%2Flink.springer.com%2Farticle%2F10.1007%2Fs11356-020-09015-5> from <GET https://link.springer.com/article/10.1007/s11356-020-09015-5>\n",
      "2022-11-13 18:47:52 [scrapy.spidermiddlewares.httperror] INFO: Ignoring response <404 https://www.academia.edu/download/66137091/IJARET_11_12_090.pdf>: HTTP status code is not handled or not allowed\n",
      "2022-11-13 18:47:52 [scrapy.downloadermiddlewares.redirect] DEBUG: Redirecting (303) to <GET https://idp.springer.com/authorize?response_type=cookie&client_id=springerlink&redirect_uri=https%3A%2F%2Flink.springer.com%2Fchapter%2F10.1007%2F978-981-33-4795-3_30> from <GET https://link.springer.com/chapter/10.1007/978-981-33-4795-3_30>\n",
      "2022-11-13 18:47:52 [scrapy.downloadermiddlewares.redirect] DEBUG: Redirecting (302) to <GET https://www.sciencedirect.com/science/article/abs/pii/S0141113615300659> from <GET https://www.sciencedirect.com/science/article/pii/S0141113615300659>\n",
      "2022-11-13 18:47:52 [scrapy.downloadermiddlewares.redirect] DEBUG: Redirecting (302) to <GET https://www.sciencedirect.com/science/article/abs/pii/S0304389418306708> from <GET https://www.sciencedirect.com/science/article/pii/S0304389418306708>\n",
      "2022-11-13 18:47:52 [scrapy.core.engine] DEBUG: Crawled (200) <GET https://www.sciencedirect.com/science/article/pii/S0025326X21000035> (referer: None)\n",
      "2022-11-13 18:47:52 [scrapy.downloadermiddlewares.redirect] DEBUG: Redirecting (302) to <GET https://www.sciencedirect.com/science/article/abs/pii/S0304389421029290> from <GET https://www.sciencedirect.com/science/article/pii/S0304389421029290>\n",
      "2022-11-13 18:47:52 [scrapy.core.engine] DEBUG: Crawled (200) <GET https://www.sciencedirect.com/science/article/pii/S2589914721000232> (referer: None)\n",
      "2022-11-13 18:47:52 [scrapy.core.engine] DEBUG: Crawled (200) <GET https://www.sciencedirect.com/science/article/pii/S0043135420305583> (referer: None)\n",
      "2022-11-13 18:47:52 [scrapy.core.scraper] DEBUG: Scraped from <200 https://www.sciencedirect.com/science/article/pii/S0025326X21000035>\n",
      "{'content': ['https://www.sciencedirect.com/science/article/pii/S0025326X21000035', 'Html', 'Assessment of potential ecological risk of microplastics in the coastal sediments of India: A meta-analysis - ScienceDirect', 'Assessment of potential ecological risk of microplastics in the coastal sediments of India: A meta-analysis - ScienceDirect', 'Skip to main content~`~Skip to article~`~Journals & Books~`~Register~`~Sign in~`~View~`~Download Full Issue~`~Marine Pollution Bulletin~`~Volume 163~`~,~`~February 2021~`~, 111969~`~Assessment of potential ecological risk of microplastics in the coastal sediments of India: A meta-analysis~`~Author links open overlay panel~`~M.~`~Ranjani~`~S.~`~Veerasingam~`~R.~`~Venkatachalapathy~`~M.~`~Mugilarasan~`~Andrei~`~Bagaev~`~Vladimir~`~Mukhanov~`~P.~`~Vethamony~`~Show more~`~Add to Mendeley~`~Share~`~Cite~`~https://doi.org/10.1016/j.marpolbul.2021.111969~`~Get rights and content~`~Under a Creative Commons~`~license~`~Open access~`~Highlights~`~First ecological risk assessment of MPs in sediments along the Indian coast~`~PLI showed the WCI is contaminated higher than ECI.~`~PERI values exhibited a high ecological risk of MPs in marine sediments.~`~Monsoon winds and currents influence on the transportation of MPs.~`~Abstract~`~Abundance, chemical composition and ecological risk of microplastics (MPs) in terrestrial and marine environments have merited substantial attention from the research communities. This is the first attempt to comprehend the ecological risk of MPs in sediments along the Indian coast using meta-data. Polymer hazard index (PHI), pollution load index (PLI) and potential ecological risk index (PERI) were used to evaluate the quality of sediments. Areas have high PHI values (>1000) due to the presence of polymers with high hazard scores such as polyamide (PA) and polystyrene (PS). According to PLI values, sediments along the west coast of India (WCI) are moderately contaminated with MPs (PLI: 3.03 to 15.5), whereas sediments along the east coast of India (ECI) are less contaminated (PLI: 1 to 6.14). The PERI values of sediments along the Indian coast showed higher ecological risk for the metropolitan cities, river mouths, potential fishing zones and the remote islands.~`~Graphical abstract~`~Download :~`~Download high-res image (186KB)~`~Download :~`~Download full-size image~`~article~`~in issue~`~article~`~in issue~`~Keywords~`~Microplastics~`~Sediments~`~Polymer hazard index~`~Pollution load index~`~Potential ecological risk index~`~Coast of India~`~Recommended articles~`~Cited by (0)~`~© 2021 The Author(s). Published by Elsevier Ltd.~`~Recommended articles~`~No articles found.~`~Article Metrics~`~View article metrics~`~About ScienceDirect~`~Remote access~`~Shopping cart~`~Advertise~`~Contact and support~`~Terms and conditions~`~Privacy policy~`~We use cookies to help provide and enhance our service and tailor content and ads. By continuing you agree to the~`~.~`~Copyright ©~`~2022~`~Elsevier B.V. or its licensors or contributors.~`~ScienceDirect® is a registered trademark of Elsevier B.V.~`~ScienceDirect® is a registered trademark of Elsevier B.V.', 'D:\\\\OneDrive\\\\Documents\\\\Monash Research Project T2 2022\\\\HazardousWaste\\\\Output\\\\Files\\\\assessment-of-potential-ecological-risk-of-microplastics-in-the-coastal-sediments-of-india-a-meta-analysis-sciencedirect.pdf']}\n",
      "2022-11-13 18:47:52 [urllib3.connectionpool] DEBUG: Starting new HTTP connection (1): dx.doi.org:80\n",
      "2022-11-13 18:47:52 [urllib3.connectionpool] DEBUG: http://dx.doi.org:80 \"GET /10.1016/j. HTTP/1.1\" 301 None\n"
     ]
    },
    {
     "name": "stdout",
     "output_type": "stream",
     "text": [
      "Running keyword collection at https://www.sciencedirect.com/science/article/pii/S0025326X21000035\n"
     ]
    },
    {
     "name": "stderr",
     "output_type": "stream",
     "text": [
      "2022-11-13 18:47:52 [urllib3.connectionpool] DEBUG: Starting new HTTPS connection (1): dx.doi.org:443\n",
      "2022-11-13 18:47:53 [urllib3.connectionpool] DEBUG: https://dx.doi.org:443 \"GET /10.1016/j. HTTP/1.1\" 404 None\n"
     ]
    }
   ],
   "source": [
    "webpages = get_tag_corpus(['microplastic', 'waste', 'hazard', 'marine'], pages=5, methods=['Scholar'], from_year=2015)"
   ]
  },
  {
   "cell_type": "code",
   "execution_count": null,
   "metadata": {},
   "outputs": [],
   "source": [
    "from Lib.PreProcessing.General import *\n",
    "corpus = [remove_stop_words(webpage.textual_content, 'Resources/stop-words.txt') for webpage in webpages]"
   ]
  },
  {
   "cell_type": "code",
   "execution_count": null,
   "metadata": {},
   "outputs": [],
   "source": [
    "result = np.empty(shape=(len(corpus), 3), dtype=object)\n",
    "\n",
    "for idx, doc in enumerate(corpus):\n",
    "    \n",
    "    yake_kw = get_keywords_yake(doc)\n",
    "    yake_str = '\\n'.join([keyword[0] for keyword in yake_kw])\n",
    "    \n",
    "    keybert_kw = get_keywords_keybert(doc)\n",
    "    keybert_str = '\\n'.join([keyword[0] for keyword in keybert_kw])\n",
    "\n",
    "    result[idx, 0] = webpages[idx].website_title\n",
    "    result[idx, 1] = yake_str\n",
    "    result[idx, 2] = keybert_str"
   ]
  },
  {
   "cell_type": "code",
   "execution_count": null,
   "metadata": {},
   "outputs": [],
   "source": [
    "import pandas as pd\n",
    "from IPython.display import display, HTML\n",
    "import textwrap"
   ]
  },
  {
   "cell_type": "code",
   "execution_count": null,
   "metadata": {},
   "outputs": [],
   "source": [
    "df = pd.DataFrame(result, columns=[\"Website / Article\", \"Yake\", \"KeyBERT\"])\n",
    "df = df.style.set_properties(**{\n",
    "    'text-align': 'left',\n",
    "    'white-space': 'pre-wrap',\n",
    "    'max-width': '500px'\n",
    "})\n",
    "df"
   ]
  },
  {
   "cell_type": "code",
   "execution_count": null,
   "metadata": {},
   "outputs": [],
   "source": []
  }
 ],
 "metadata": {
  "kernelspec": {
   "display_name": "Python 3.10.6 ('hwaste')",
   "language": "python",
   "name": "python3"
  },
  "language_info": {
   "codemirror_mode": {
    "name": "ipython",
    "version": 3
   },
   "file_extension": ".py",
   "mimetype": "text/x-python",
   "name": "python",
   "nbconvert_exporter": "python",
   "pygments_lexer": "ipython3",
   "version": "3.10.6"
  },
  "vscode": {
   "interpreter": {
    "hash": "a7924d9a20850c14cbb7a0881a6c9ce0e761d7fb6ca5fe4a7ecd78eb7b45cd49"
   }
  }
 },
 "nbformat": 4,
 "nbformat_minor": 2
}

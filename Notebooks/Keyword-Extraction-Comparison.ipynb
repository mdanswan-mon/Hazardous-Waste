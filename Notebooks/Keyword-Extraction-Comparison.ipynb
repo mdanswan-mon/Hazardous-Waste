{
 "cells": [
  {
   "cell_type": "code",
   "execution_count": null,
   "metadata": {},
   "outputs": [],
   "source": [
    "cd ../"
   ]
  },
  {
   "cell_type": "code",
   "execution_count": null,
   "metadata": {},
   "outputs": [],
   "source": [
    "from Lib.WebScrapping.CorpusScraper import *\n",
    "from Lib.TextAnalytics.Methods import *\n",
    "import sys\n",
    "import numpy as np\n",
    "import pandas as pd\n",
    "pd.set_option('display.float_format', lambda x: '%.3f' % x)"
   ]
  },
  {
   "cell_type": "code",
   "execution_count": null,
   "metadata": {},
   "outputs": [],
   "source": [
    "webpages = get_tag_corpus([\"hazard\", \"marine\", \"microplastics\"], pages=1, methods=['Scholar'])"
   ]
  },
  {
   "cell_type": "code",
   "execution_count": null,
   "metadata": {},
   "outputs": [],
   "source": [
    "from Lib.PreProcessing.General import *\n",
    "corpus = [remove_stop_words(webpage.textual_content, 'Resources/stop-words.txt') for webpage in webpages]"
   ]
  },
  {
   "cell_type": "code",
   "execution_count": null,
   "metadata": {},
   "outputs": [],
   "source": [
    "result = np.empty(shape=(len(corpus), 3), dtype=object)\n",
    "\n",
    "for idx, doc in enumerate(corpus):\n",
    "    \n",
    "    yake_kw = get_keywords_yake(doc)\n",
    "    yake_str = '\\n'.join([keyword[0] for keyword in yake_kw])\n",
    "    \n",
    "    keybert_kw = get_keywords_keybert(doc)\n",
    "    keybert_str = '\\n'.join([keyword[0] for keyword in keybert_kw])\n",
    "\n",
    "    result[idx, 0] = webpages[idx].title\n",
    "    result[idx, 1] = yake_str\n",
    "    result[idx, 2] = keybert_str"
   ]
  },
  {
   "cell_type": "code",
   "execution_count": null,
   "metadata": {},
   "outputs": [],
   "source": [
    "import pandas as pd\n",
    "from IPython.display import display, HTML\n",
    "import textwrap"
   ]
  },
  {
   "cell_type": "code",
   "execution_count": null,
   "metadata": {},
   "outputs": [],
   "source": [
    "df = pd.DataFrame(result, columns=[\"Website / Article\", \"Yake\", \"KeyBERT\"])\n",
    "df = df.style.set_properties(**{\n",
    "    'text-align': 'left',\n",
    "    'white-space': 'pre-wrap',\n",
    "    'max-width': '500px'\n",
    "})\n",
    "df"
   ]
  },
  {
   "cell_type": "code",
   "execution_count": null,
   "metadata": {},
   "outputs": [],
   "source": []
  }
 ],
 "metadata": {
  "kernelspec": {
   "display_name": "Python 3.10.4 ('HWaste')",
   "language": "python",
   "name": "python3"
  },
  "language_info": {
   "codemirror_mode": {
    "name": "ipython",
    "version": 3
   },
   "file_extension": ".py",
   "mimetype": "text/x-python",
   "name": "python",
   "nbconvert_exporter": "python",
   "pygments_lexer": "ipython3",
   "version": "3.10.4"
  },
  "vscode": {
   "interpreter": {
    "hash": "bccd11027b6ad3402a27fd87d189f6132d31cf2fc498fa1869dc23f1ec9f10db"
   }
  }
 },
 "nbformat": 4,
 "nbformat_minor": 2
}

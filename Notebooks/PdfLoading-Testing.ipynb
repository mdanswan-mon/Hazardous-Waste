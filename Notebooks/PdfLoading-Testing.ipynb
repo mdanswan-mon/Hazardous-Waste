{
 "cells": [
  {
   "cell_type": "code",
   "execution_count": 1,
   "metadata": {},
   "outputs": [],
   "source": [
    "import textract"
   ]
  },
  {
   "cell_type": "code",
   "execution_count": 2,
   "metadata": {},
   "outputs": [
    {
     "name": "stdout",
     "output_type": "stream",
     "text": [
      "Hi\n"
     ]
    }
   ],
   "source": [
    "with open('D:/OneDrive/Documents/Monash Research Project T2 2022/HazardousWaste/4771336_guide_waste_definitions.pdf', 'rb') as file:\n",
    "    print(\"Hi\")"
   ]
  },
  {
   "cell_type": "code",
   "execution_count": 3,
   "metadata": {},
   "outputs": [],
   "source": [
    "textual_content = textract.process(\"D:/OneDrive/Documents/Monash Research Project T2 2022/HazardousWaste/4771336_guide_waste_definitions.pdf\")"
   ]
  },
  {
   "cell_type": "code",
   "execution_count": null,
   "metadata": {},
   "outputs": [],
   "source": []
  }
 ],
 "metadata": {
  "kernelspec": {
   "display_name": "Python 3.10.4 ('HWaste')",
   "language": "python",
   "name": "python3"
  },
  "language_info": {
   "codemirror_mode": {
    "name": "ipython",
    "version": 3
   },
   "file_extension": ".py",
   "mimetype": "text/x-python",
   "name": "python",
   "nbconvert_exporter": "python",
   "pygments_lexer": "ipython3",
   "version": "3.10.6"
  },
  "orig_nbformat": 4,
  "vscode": {
   "interpreter": {
    "hash": "bccd11027b6ad3402a27fd87d189f6132d31cf2fc498fa1869dc23f1ec9f10db"
   }
  }
 },
 "nbformat": 4,
 "nbformat_minor": 2
}
